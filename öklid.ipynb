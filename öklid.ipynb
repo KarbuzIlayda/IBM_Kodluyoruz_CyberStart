{
 "cells": [
  {
   "cell_type": "code",
   "execution_count": 2,
   "id": "b837c9d1-fe79-414f-b022-6ce465de7773",
   "metadata": {},
   "outputs": [
    {
     "name": "stdout",
     "output_type": "stream",
     "text": [
      "Tüm mesafeler: [10.63014581273465, 15.297058540778355, 19.1049731745428, 26.40075756488817, 9.433981132056603, 15.620499351813308, 17.26267650163207, 6.4031242374328485, 12.041594578792296, 13.92838827718412]\n",
      "Minimum mesafe: 6.4031242374328485\n"
     ]
    }
   ],
   "source": [
    "import math\n",
    "\n",
    "points = [(15, -3), (8, 5), (0, 0), (-4, -5), (-9, 8)]\n",
    "\n",
    "def euclideanDistance(point1, point2):\n",
    "    return math.sqrt((point1[0] - point2[0]) ** 2 + (point1[1] - point2[1]) ** 2)\n",
    "\n",
    "distances = []\n",
    "for i in range(len(points)):\n",
    "    for j in range(i + 1, len(points)):\n",
    "        distance = euclideanDistance(points[i], points[j])\n",
    "        distances.append(distance)\n",
    "\n",
    "min_distance = min(distances)\n",
    "\n",
    "print(\"Tüm mesafeler:\", distances)\n",
    "print(\"Minimum mesafe:\", min_distance)\n"
   ]
  },
  {
   "cell_type": "code",
   "execution_count": null,
   "id": "51243e25-5219-415c-99f7-ba0d1d11b94b",
   "metadata": {},
   "outputs": [],
   "source": []
  }
 ],
 "metadata": {
  "kernelspec": {
   "display_name": "Python 3 (ipykernel)",
   "language": "python",
   "name": "python3"
  },
  "language_info": {
   "codemirror_mode": {
    "name": "ipython",
    "version": 3
   },
   "file_extension": ".py",
   "mimetype": "text/x-python",
   "name": "python",
   "nbconvert_exporter": "python",
   "pygments_lexer": "ipython3",
   "version": "3.12.3"
  }
 },
 "nbformat": 4,
 "nbformat_minor": 5
}
